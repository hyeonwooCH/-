{
 "cells": [
  {
   "cell_type": "code",
   "execution_count": 5,
   "id": "0acaf773-32b5-4dc6-a53f-9372412aaff3",
   "metadata": {},
   "outputs": [
    {
     "name": "stdout",
     "output_type": "stream",
     "text": [
      "Collecting cmake\n",
      "  Using cached cmake-3.28.4-py2.py3-none-win_amd64.whl (35.7 MB)\n",
      "Installing collected packages: cmake\n",
      "Successfully installed cmake-3.28.4\n",
      "Note: you may need to restart the kernel to use updated packages.\n"
     ]
    }
   ],
   "source": [
    "pip install cmake"
   ]
  },
  {
   "cell_type": "code",
   "execution_count": 6,
   "id": "593a09e8-c988-4359-83c0-1591e61808b2",
   "metadata": {},
   "outputs": [
    {
     "name": "stdout",
     "output_type": "stream",
     "text": [
      "Requirement already satisfied: dlib in c:\\users\\1124h\\anaconda3\\envs\\face2_env\\lib\\site-packages (19.22.0)\n",
      "Note: you may need to restart the kernel to use updated packages.\n"
     ]
    }
   ],
   "source": [
    "pip install dlib"
   ]
  },
  {
   "cell_type": "code",
   "execution_count": 7,
   "id": "ffd61036-fb0b-40d8-8bd9-3ed126e87bae",
   "metadata": {},
   "outputs": [
    {
     "name": "stdout",
     "output_type": "stream",
     "text": [
      "Collecting face_recognition\n",
      "  Using cached face_recognition-1.3.0-py2.py3-none-any.whl (15 kB)\n",
      "Requirement already satisfied: Pillow in c:\\users\\1124h\\anaconda3\\envs\\face2_env\\lib\\site-packages (from face_recognition) (8.4.0)\n",
      "Collecting face-recognition-models>=0.3.0\n",
      "  Using cached face_recognition_models-0.3.0-py2.py3-none-any.whl\n",
      "Requirement already satisfied: numpy in c:\\users\\1124h\\anaconda3\\envs\\face2_env\\lib\\site-packages (from face_recognition) (1.19.5)\n",
      "Requirement already satisfied: dlib>=19.7 in c:\\users\\1124h\\anaconda3\\envs\\face2_env\\lib\\site-packages (from face_recognition) (19.22.0)\n",
      "Collecting Click>=6.0\n",
      "  Using cached click-8.0.4-py3-none-any.whl (97 kB)\n",
      "Requirement already satisfied: importlib-metadata in c:\\users\\1124h\\anaconda3\\envs\\face2_env\\lib\\site-packages (from Click>=6.0->face_recognition) (4.8.1)\n",
      "Requirement already satisfied: colorama in c:\\users\\1124h\\anaconda3\\envs\\face2_env\\lib\\site-packages (from Click>=6.0->face_recognition) (0.4.4)\n",
      "Requirement already satisfied: zipp>=0.5 in c:\\users\\1124h\\anaconda3\\envs\\face2_env\\lib\\site-packages (from importlib-metadata->Click>=6.0->face_recognition) (3.6.0)\n",
      "Requirement already satisfied: typing-extensions>=3.6.4 in c:\\users\\1124h\\anaconda3\\envs\\face2_env\\lib\\site-packages (from importlib-metadata->Click>=6.0->face_recognition) (4.1.1)\n",
      "Installing collected packages: face-recognition-models, Click, face-recognition\n",
      "Successfully installed Click-8.0.4 face-recognition-1.3.0 face-recognition-models-0.3.0Note: you may need to restart the kernel to use updated packages.\n",
      "\n"
     ]
    }
   ],
   "source": [
    "pip install face_recognition"
   ]
  },
  {
   "cell_type": "code",
   "execution_count": 8,
   "id": "9316bde9-fe5c-4e6c-b6b9-901571c0ca3f",
   "metadata": {},
   "outputs": [
    {
     "name": "stdout",
     "output_type": "stream",
     "text": [
      "Requirement already satisfied: setuptools in c:\\users\\1124h\\anaconda3\\envs\\face2_env\\lib\\site-packages (58.0.4)\n",
      "Note: you may need to restart the kernel to use updated packages.\n"
     ]
    }
   ],
   "source": [
    "pip install setuptools"
   ]
  },
  {
   "cell_type": "code",
   "execution_count": 9,
   "id": "4434eac1-09a4-485a-8dfe-bac21edc6368",
   "metadata": {},
   "outputs": [
    {
     "name": "stdout",
     "output_type": "stream",
     "text": [
      "Requirement already satisfied: pip in c:\\users\\1124h\\anaconda3\\envs\\face2_env\\lib\\site-packages (21.2.2)Note: you may need to restart the kernel to use updated packages.\n",
      "\n",
      "Collecting pip\n",
      "  Using cached pip-21.3.1-py3-none-any.whl (1.7 MB)\n",
      "Installing collected packages: pip\n",
      "  Attempting uninstall: pip\n",
      "    Found existing installation: pip 21.2.2\n",
      "    Uninstalling pip-21.2.2:\n",
      "      Successfully uninstalled pip-21.2.2\n",
      "Successfully installed pip-21.3.1\n"
     ]
    }
   ],
   "source": [
    "pip install --upgrade pip"
   ]
  },
  {
   "cell_type": "code",
   "execution_count": 10,
   "id": "8dedbe59",
   "metadata": {},
   "outputs": [
    {
     "name": "stdout",
     "output_type": "stream",
     "text": [
      "Requirement already satisfied: pillow in c:\\users\\1124h\\anaconda3\\envs\\face2_env\\lib\\site-packages (8.4.0)\n",
      "Note: you may need to restart the kernel to use updated packages.\n"
     ]
    }
   ],
   "source": [
    "pip install pillow"
   ]
  },
  {
   "cell_type": "code",
   "execution_count": 11,
   "id": "804edf47",
   "metadata": {},
   "outputs": [
    {
     "name": "stdout",
     "output_type": "stream",
     "text": [
      "C:\\Users\\1124h\\anaconda3\\envs\\face2_env\\lib\\site-packages\\face_recognition_models\\__init__.py\n"
     ]
    }
   ],
   "source": [
    "import face_recognition_models\n",
    "print(face_recognition_models.__file__)"
   ]
  },
  {
   "cell_type": "code",
   "execution_count": 4,
   "id": "38fe5c93-81c4-49f1-b8a0-3b57791f4e5b",
   "metadata": {},
   "outputs": [],
   "source": [
    "import face_recognition\n",
    "import cv2\n",
    "import numpy as np\n",
    "\n",
    "# 카메라 초기화\n",
    "video_capture = cv2.VideoCapture(0)\n",
    "\n",
    "choi_image = face_recognition.load_image_file(\"ChoiHyeonwoo.jpg\")\n",
    "choi_face_encoding = face_recognition.face_encodings(choi_image)[0]\n",
    "lee_image = face_recognition.load_image_file(\"Leenayoung.jpg\")\n",
    "lee_face_encoding = face_recognition.face_encodings(lee_image)[0]\n",
    "park_image = face_recognition.load_image_file(\"Parkjimin.jpg\")\n",
    "park_face_encoding = face_recognition.face_encodings(park_image)[0]\n",
    "kim_image = face_recognition.load_image_file(\"Kimsuhyeon.jpg\")\n",
    "kim_face_encoding = face_recognition.face_encodings(kim_image)[0]\n",
    "\n",
    "known_face_encodings = [\n",
    "    choi_face_encoding, \n",
    "    lee_face_encoding, \n",
    "    park_face_encoding,\n",
    "    kim_face_encoding\n",
    "]\n",
    "\n",
    "known_face_names = [\n",
    "    \"ChoiHyeonwoo\", \n",
    "    \"Leenayoung\", \n",
    "    \"Parkjimin\",\n",
    "    \"Kimsuhyeon\"\n",
    "]\n",
    "\n",
    "additional_info = {\n",
    "    \"ChoiHyeonwoo\": {\n",
    "        \"student number\": \"20223527\",\n",
    "        \"department\": \"AI Convergence\",\n",
    "        \"seat\": \"A-121\"\n",
    "    },\n",
    "    \"Leenayoung\":{\n",
    "        \"student number\": \"2022oooo\",\n",
    "        \"department\": \"AI Convergence\",\n",
    "        \"seat\": \"B-731\"\n",
    "    },\n",
    "    \"Parkjimin\":{\n",
    "        \"student number\": \"2022oooo\",\n",
    "        \"department\": \"AI Convergence\",\n",
    "        \"seat\": \"F-341\"\n",
    "    },\n",
    "    \"Kimsuhyeon\":{\n",
    "        \"student number\": \"201921012\",\n",
    "        \"department\": \"Business Administration\",\n",
    "        \"seat\": \"H-193\"\n",
    "    }\n",
    "}\n",
    "\n",
    "# 변수 초기화\n",
    "face_locations = []\n",
    "face_encodings = []\n",
    "face_names = []\n",
    "process_this_frame = True\n",
    "\n",
    "while True:\n",
    "    # 카메라에서 프레임 읽기\n",
    "    ret, frame = video_capture.read()\n",
    "\n",
    "    if process_this_frame:\n",
    "        # 프레임 크기 줄이기\n",
    "        small_frame = cv2.resize(frame, (0, 0), fx=0.25, fy=0.25)\n",
    "        rgb_small_frame = cv2.cvtColor(small_frame, cv2.COLOR_BGR2RGB)  # RGB로 변환\n",
    "\n",
    "        # 얼굴 위치 확인\n",
    "        face_locations = face_recognition.face_locations(rgb_small_frame)\n",
    "\n",
    "        # 얼굴 인코딩 확인\n",
    "        face_encodings = face_recognition.face_encodings(rgb_small_frame, face_locations)\n",
    "\n",
    "        face_names = []\n",
    "        for face_encoding in face_encodings:\n",
    "            matches = face_recognition.compare_faces(known_face_encodings, face_encoding)\n",
    "            name = \"Unknown\"\n",
    "\n",
    "            # 가장 가까운 매칭 결과 찾기\n",
    "            face_distances = face_recognition.face_distance(known_face_encodings, face_encoding)\n",
    "            best_match_index = np.argmin(face_distances)\n",
    "            if matches[best_match_index]:\n",
    "                name = known_face_names[best_match_index]\n",
    "\n",
    "            face_names.append(name)\n",
    "\n",
    "    process_this_frame = not process_this_frame\n",
    "\n",
    "    for (top, right, bottom, left), name in zip(face_locations, face_names):\n",
    "        top *= 4\n",
    "        right *= 4\n",
    "        bottom *= 4\n",
    "        left *= 4\n",
    "\n",
    "        # 초록색 창: 인식된 얼굴\n",
    "        if name in additional_info:\n",
    "            info = additional_info[name]\n",
    "            label = f\"{name}\\nstudent number: {info['student number']}\\ndepartment: {info['department']}\\nseat: {info['seat']}\"\n",
    "            box_color = (0, 255, 0)  # 초록색\n",
    "        else:\n",
    "            # 빨간색 창: 알 수 없는 얼굴\n",
    "            label = \"Unknown\"\n",
    "            box_color = (0, 0, 255)  # 빨간색\n",
    "\n",
    "        # 얼굴 주위에 사각형 그리기\n",
    "        cv2.rectangle(frame, (left, top), (right, bottom), box_color, 2)\n",
    "\n",
    "         # 텍스트 박스 크기 늘리기 (텍스트가 잘리지 않도록 설정)\n",
    "        label_lines = label.split('\\n')\n",
    "        text_box_height = 20 * len(label_lines)  # 줄 개수에 따라 높이 조정\n",
    "        cv2.rectangle(frame, (left, bottom - text_box_height), (right, bottom), box_color, cv2.FILLED)\n",
    "\n",
    "        # 텍스트 표시\n",
    "        font = cv2.FONT_HERSHEY_DUPLEX\n",
    "        y0 = bottom - text_box_height + 15  # 텍스트 시작 위치\n",
    "        dy = 20  # 줄 간격\n",
    "        for line in label_lines:\n",
    "            cv2.putText(frame, line, (left + 6, y0), font, 0.5, (255, 255, 255), 1)\n",
    "            y0 += dy\n",
    "\n",
    "    # 결과 영상 보여주기\n",
    "    cv2.imshow('Video', frame)\n",
    "\n",
    "    # 'q' 키로 종료\n",
    "    if cv2.waitKey(1) & 0xFF == ord('q'):\n",
    "        break\n",
    "\n",
    "# 카메라 및 창 닫기\n",
    "video_capture.release()\n",
    "cv2.destroyAllWindows()"
   ]
  },
  {
   "cell_type": "code",
   "execution_count": 8,
   "id": "18eafc3c-f3d0-4bd0-a294-336ef0a61bd0",
   "metadata": {},
   "outputs": [
    {
     "name": "stdout",
     "output_type": "stream",
     "text": [
      "Requirement already satisfied: face_recognition in c:\\users\\1124h\\anaconda3\\envs\\face_env\\lib\\site-packages (1.3.0)\n",
      "Requirement already satisfied: opencv-python in c:\\users\\1124h\\anaconda3\\envs\\face_env\\lib\\site-packages (4.10.0.84)\n",
      "Requirement already satisfied: face-recognition-models>=0.3.0 in c:\\users\\1124h\\anaconda3\\envs\\face_env\\lib\\site-packages (from face_recognition) (0.3.0)\n",
      "Requirement already satisfied: Click>=6.0 in c:\\users\\1124h\\anaconda3\\envs\\face_env\\lib\\site-packages (from face_recognition) (8.1.7)\n",
      "Requirement already satisfied: dlib>=19.7 in c:\\users\\1124h\\anaconda3\\envs\\face_env\\lib\\site-packages (from face_recognition) (19.24.6)\n",
      "Requirement already satisfied: numpy in c:\\users\\1124h\\anaconda3\\envs\\face_env\\lib\\site-packages (from face_recognition) (1.24.4)\n",
      "Requirement already satisfied: Pillow in c:\\users\\1124h\\anaconda3\\envs\\face_env\\lib\\site-packages (from face_recognition) (10.4.0)\n",
      "Requirement already satisfied: colorama in c:\\users\\1124h\\appdata\\roaming\\python\\python38\\site-packages (from Click>=6.0->face_recognition) (0.4.6)\n",
      "Note: you may need to restart the kernel to use updated packages.\n"
     ]
    }
   ],
   "source": [
    "pip install face_recognition opencv-python"
   ]
  },
  {
   "cell_type": "code",
   "execution_count": 10,
   "id": "56d31c40-9481-43e5-bf37-d6a63a209802",
   "metadata": {},
   "outputs": [],
   "source": [
    "import cv2\n",
    "import numpy as np\n",
    "\n",
    "# Haar Cascade 파일 경로 (OpenCV 제공)\n",
    "face_cascade_path = cv2.data.haarcascades + \"haarcascade_frontalface_default.xml\"\n",
    "face_cascade = cv2.CascadeClassifier(face_cascade_path)\n",
    "\n",
    "# 본인 얼굴 템플릿 이미지 로드\n",
    "your_image_path = \"ChoiHyeonwoo.jpg\"  # 본인 얼굴 이미지 경로\n",
    "your_template = cv2.imread(your_image_path, cv2.IMREAD_GRAYSCALE)\n",
    "\n",
    "# 추가할 사람의 템플릿 이미지 로드\n",
    "lee_image_path = \"Leenayoung.jpg\"  # Leenayoung 얼굴 이미지 경로\n",
    "lee_template = cv2.imread(lee_image_path, cv2.IMREAD_GRAYSCALE)\n",
    "\n",
    "park_image_path = \"Parkjimin.jpg\"  # Parkjimin 얼굴 이미지 경로\n",
    "park_template = cv2.imread(park_image_path, cv2.IMREAD_GRAYSCALE)\n",
    "\n",
    "# 알려진 얼굴 정보\n",
    "known_faces = {\n",
    "    \"ChoiHyeonwoo\": {\n",
    "        \"student number\": \"20223527\",\n",
    "        \"department\": \"AI Convergence\",\n",
    "        \"seat\": \"A-101\"\n",
    "    },\n",
    "    \"Leenayoung\": {\n",
    "        \"student number\": \"2022301\",\n",
    "        \"department\": \"AI Convergence\",\n",
    "        \"seat\": \"B-202\"\n",
    "    },\n",
    "     \"Parkjimin\": {\n",
    "        \"student number\": \"20221111\",\n",
    "        \"department\": \"Computer Convergence\",\n",
    "        \"seat\": \"B-206\"\n",
    "     }\n",
    "}\n",
    "\n",
    "# 영상 스트림(카메라) 초기화\n",
    "video_capture = cv2.VideoCapture(0)\n",
    "\n",
    "while True:\n",
    "    # 카메라에서 프레임 읽기\n",
    "    ret, frame = video_capture.read()\n",
    "    if not ret:\n",
    "        break\n",
    "\n",
    "    # 그레이스케일로 변환\n",
    "    gray_frame = cv2.cvtColor(frame, cv2.COLOR_BGR2GRAY)\n",
    "\n",
    "    # 얼굴 탐지\n",
    "    faces = face_cascade.detectMultiScale(gray_frame, scaleFactor=1.1, minNeighbors=5, minSize=(50, 50))\n",
    "\n",
    "    for (x, y, w, h) in faces:\n",
    "        # 얼굴 ROI (Region of Interest) 추출\n",
    "        face_roi = gray_frame[y:y+h, x:x+w]\n",
    "\n",
    "        # 템플릿 매칭\n",
    "        max_similarity = 0\n",
    "        name = \"Unknown\"\n",
    "        box_color = (0, 0, 255)  # 기본 색상: 빨간색\n",
    "        label = \"Unknown\\nstudent number: N/A\\ndepartment: N/A\\nseat: N/A\"\n",
    "\n",
    "        # ChoiHyeonwoo 매칭\n",
    "        res1 = cv2.matchTemplate(face_roi, your_template, cv2.TM_CCOEFF_NORMED)\n",
    "        if np.max(res1) > max_similarity and np.max(res1) >= 0.6:  # Threshold: 0.6\n",
    "            max_similarity = np.max(res1)\n",
    "            name = \"ChoiHyeonwoo\"\n",
    "            box_color = (0, 255, 0)  # 초록색\n",
    "            info = known_faces[name]\n",
    "            label = f\"{name}\\nstudent number: {info['student number']}\\ndepartment: {info['department']}\\nseat: {info['seat']}\"\n",
    "\n",
    "        # Leenayoung 매칭\n",
    "        res2 = cv2.matchTemplate(face_roi, lee_template, cv2.TM_CCOEFF_NORMED)\n",
    "        if np.max(res2) > max_similarity and np.max(res2) >= 0.6:  # Threshold: 0.6\n",
    "            max_similarity = np.max(res2)\n",
    "            name = \"Leenayoung\"\n",
    "            box_color = (0, 255, 0)  # 초록색\n",
    "            info = known_faces[name]\n",
    "            label = f\"{name}\\nstudent number: {info['student number']}\\ndepartment: {info['department']}\\nseat: {info['seat']}\"\n",
    "\n",
    "        # Parkjimin 매칭\n",
    "        res2 = cv2.matchTemplate(face_roi, park_template, cv2.TM_CCOEFF_NORMED)\n",
    "        if np.max(res2) > max_similarity and np.max(res2) >= 0.6:  # Threshold: 0.6\n",
    "            max_similarity = np.max(res2)\n",
    "            name = \"Parkjimin\"\n",
    "            box_color = (0, 255, 0)  # 초록색\n",
    "            info = known_faces[name]\n",
    "            label = f\"{name}\\nstudent number: {info['student number']}\\ndepartment: {info['department']}\\nseat: {info['seat']}\"\n",
    "        \n",
    "        # 얼굴 사각형 그리기\n",
    "        cv2.rectangle(frame, (x, y), (x + w, y + h), box_color, 2)\n",
    "\n",
    "        # 이름 및 추가 정보 표시\n",
    "        y0, dy = y + h + 15, 20  # 사각형 아래 표시 시작점\n",
    "        for line in label.split('\\n'):\n",
    "            cv2.putText(frame, line, (x, y0), cv2.FONT_HERSHEY_SIMPLEX, 0.5, box_color, 1)\n",
    "            y0 += dy\n",
    "\n",
    "    # 결과 출력\n",
    "    cv2.imshow(\"Face Detection with Info\", frame)\n",
    "\n",
    "    # 'q' 키를 눌러 종료\n",
    "    if cv2.waitKey(1) & 0xFF == ord('q'):\n",
    "        break\n",
    "\n",
    "video_capture.release()\n",
    "cv2.destroyAllWindows()\n"
   ]
  },
  {
   "cell_type": "code",
   "execution_count": null,
   "id": "3f88036b-c12c-4fcb-8989-3e5d4c3a99c3",
   "metadata": {},
   "outputs": [],
   "source": []
  }
 ],
 "metadata": {
  "kernelspec": {
   "display_name": "face2_env",
   "language": "python",
   "name": "face2_env"
  },
  "language_info": {
   "codemirror_mode": {
    "name": "ipython",
    "version": 3
   },
   "file_extension": ".py",
   "mimetype": "text/x-python",
   "name": "python",
   "nbconvert_exporter": "python",
   "pygments_lexer": "ipython3",
   "version": "3.6.13"
  }
 },
 "nbformat": 4,
 "nbformat_minor": 5
}
